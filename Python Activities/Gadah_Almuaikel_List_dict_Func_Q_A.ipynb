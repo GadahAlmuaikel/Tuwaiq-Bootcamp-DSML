{
  "nbformat": 4,
  "nbformat_minor": 0,
  "metadata": {
    "colab": {
      "provenance": []
    },
    "kernelspec": {
      "name": "python3",
      "display_name": "Python 3"
    },
    "language_info": {
      "name": "python"
    }
  },
  "cells": [
    {
      "cell_type": "markdown",
      "source": [
        "Q1: How do you create an empty list and add numbers 1 to 5 using a for loop?"
      ],
      "metadata": {
        "id": "o9ImChpqdy-o"
      }
    },
    {
      "cell_type": "code",
      "source": [
        "myList = []\n",
        "for i in range(1,6):\n",
        "  myList.append(i)\n",
        "print(myList)"
      ],
      "metadata": {
        "colab": {
          "base_uri": "https://localhost:8080/"
        },
        "id": "HJbvv7GBs_H8",
        "outputId": "3dba7c12-3a25-491c-e165-0a7a4dfcaf72"
      },
      "execution_count": null,
      "outputs": [
        {
          "output_type": "stream",
          "name": "stdout",
          "text": [
            "[1, 2, 3, 4, 5]\n"
          ]
        }
      ]
    },
    {
      "cell_type": "markdown",
      "source": [
        "Q2: How can you calculate the sum of all elements in a list using a while loop?"
      ],
      "metadata": {
        "id": "LcSGkJZAd0qr"
      }
    },
    {
      "cell_type": "code",
      "source": [
        "myList2=[1,2,3,4,5,6,7,8,9,10]\n",
        "sum=0\n",
        "i = 0\n",
        "\n",
        "while i<len(myList2):\n",
        "  sum+=myList2[i]\n",
        "  i+=1\n",
        "print(f\"the sum of all elements is {sum}\")"
      ],
      "metadata": {
        "colab": {
          "base_uri": "https://localhost:8080/"
        },
        "id": "qZJkaX2BtnAT",
        "outputId": "b9d9a643-60bd-4d0f-d3b1-923462b278ce"
      },
      "execution_count": null,
      "outputs": [
        {
          "output_type": "stream",
          "name": "stdout",
          "text": [
            "3\n"
          ]
        }
      ]
    },
    {
      "cell_type": "markdown",
      "source": [
        "Q3: How would you find the maximum value in a list without using the max() function?*"
      ],
      "metadata": {
        "id": "bynM9b0Pd5CA"
      }
    },
    {
      "cell_type": "code",
      "source": [
        "myList3=[1,2,3,4,5,6,7,8,9,10]\n",
        "print(f\"the maximum number in the list is {max(myList3)}\")"
      ],
      "metadata": {
        "colab": {
          "base_uri": "https://localhost:8080/"
        },
        "id": "X2cTM-qEuk2N",
        "outputId": "0de9544c-cad3-41f1-e0c9-55974fa99584"
      },
      "execution_count": null,
      "outputs": [
        {
          "output_type": "stream",
          "name": "stdout",
          "text": [
            "10\n"
          ]
        }
      ]
    },
    {
      "cell_type": "markdown",
      "source": [
        "*Q4: How do you create a dictionary where the keys are numbers 1 to 3 and the values are their squares?*\n"
      ],
      "metadata": {
        "id": "n96QR5cJd_xL"
      }
    },
    {
      "cell_type": "code",
      "source": [
        "myDictionary = dict()\n",
        "for i in range(1,4):\n",
        "  myDictionary[i]=i*i\n",
        "print(myDictionary)"
      ],
      "metadata": {
        "colab": {
          "base_uri": "https://localhost:8080/"
        },
        "id": "28rDhJPUvzdi",
        "outputId": "6c027440-bacd-45da-b77c-be8bf9d9efd8"
      },
      "execution_count": null,
      "outputs": [
        {
          "output_type": "stream",
          "name": "stdout",
          "text": [
            "{1: 1, 2: 4, 3: 9}\n"
          ]
        }
      ]
    },
    {
      "cell_type": "markdown",
      "source": [
        "Q5How can you iterate over a dictionary to print each key-value pair?"
      ],
      "metadata": {
        "id": "mRFs-lRCeEqv"
      }
    },
    {
      "cell_type": "code",
      "source": [
        "myDictionary2={\"key-1\":\"value-1\",\"key-2\":\"value-2\",\"key-3\":\"value-3\"}\n",
        "for key,value in myDictionary2.items():\n",
        "  print(f\"the key is {key} and it's value is {value}\")"
      ],
      "metadata": {
        "colab": {
          "base_uri": "https://localhost:8080/"
        },
        "id": "jAzWJlpBwUL8",
        "outputId": "0f029e11-6db5-4ca6-e9d6-0ca972380d84"
      },
      "execution_count": null,
      "outputs": [
        {
          "output_type": "stream",
          "name": "stdout",
          "text": [
            "the key is key-1 and it's value is value-1\n",
            "the key is key-2 and it's value is value-2\n",
            "the key is key-3 and it's value is value-3\n"
          ]
        }
      ]
    },
    {
      "cell_type": "markdown",
      "source": [
        "Q6: How do you remove a key-value pair from a dictionary and handle the case where the key might not exist?*"
      ],
      "metadata": {
        "id": "f6NDA7uOeIqC"
      }
    },
    {
      "cell_type": "code",
      "source": [
        "myDictonary3={\"key-1\":\"value-1\",\"key-2\":\"value-2\",\"key-3\":\"value-3\"}\n",
        "\n",
        "key = input(f\" the current dictonary is {myDictonary3} \\n Enter the key you want to remove :\")\n",
        "\n",
        "if key in myDictonary3:\n",
        "    myDictonary3.pop(key)\n",
        "    print(f\"The pair you request to delet has been deleted sucessfully the new dictonary is {myDictonary3}\")\n",
        "else:\n",
        "    print(f\"Key '{key}' not found in the dictionary.\")"
      ],
      "metadata": {
        "colab": {
          "base_uri": "https://localhost:8080/"
        },
        "id": "QVBJYy3v0Rv3",
        "outputId": "d8681f40-970e-4802-a1ce-fc8a7a19aad6"
      },
      "execution_count": null,
      "outputs": [
        {
          "output_type": "stream",
          "name": "stdout",
          "text": [
            " the current dictonary is {'key-1': 'value-1', 'key-2': 'value-2', 'key-3': 'value-3'} \n",
            " Enter the key you want to remove :key-1\n",
            "The pair you request to delet has been deleted sucessfully the new dictonary is {'key-2': 'value-2', 'key-3': 'value-3'}\n"
          ]
        }
      ]
    },
    {
      "cell_type": "markdown",
      "source": [
        "Q7 Write a function that takes a list of numbers and returns the average of the numbers."
      ],
      "metadata": {
        "id": "mPjIlry9eLZ-"
      }
    },
    {
      "cell_type": "code",
      "source": [
        "def average(list):\n",
        "  sum=0\n",
        "  for i in list:\n",
        "    sum+=i\n",
        "  average = sum/len(list)\n",
        "  return average\n",
        "\n",
        "myList4=[1,2,3,4,5]\n",
        "print(f\"the average of {myList4} is equal to {average(myList4)}\")\n"
      ],
      "metadata": {
        "colab": {
          "base_uri": "https://localhost:8080/"
        },
        "id": "RhOu6T8vxSc-",
        "outputId": "a4803c9c-f63e-4533-f002-e692e3488ee9"
      },
      "execution_count": null,
      "outputs": [
        {
          "output_type": "stream",
          "name": "stdout",
          "text": [
            "the average of [1, 2, 3, 4, 5] is equal to 3.0\n"
          ]
        }
      ]
    },
    {
      "cell_type": "markdown",
      "source": [
        "Q8 How would you write a function that returns the factorial of a given number using a while loop?"
      ],
      "metadata": {
        "id": "_5nxsvZMebUl"
      }
    },
    {
      "cell_type": "code",
      "source": [
        "def factorial(num):\n",
        "  fact=1\n",
        "  while num>0:\n",
        "    fact*=num\n",
        "    num-=1\n",
        "  return fact\n",
        "num =int(input(\"Enter a number to get its factorial :\"))\n",
        "print(f\"the factorial of number {num} is {factorial(num)} \")"
      ],
      "metadata": {
        "colab": {
          "base_uri": "https://localhost:8080/"
        },
        "id": "dzuGNCrYyGwz",
        "outputId": "0e6936b3-95a4-48fe-c8a6-a9936bf149b2"
      },
      "execution_count": null,
      "outputs": [
        {
          "output_type": "stream",
          "name": "stdout",
          "text": [
            "Enter a number to get its factorial :4\n",
            "the factorial of number 4 is 24 \n"
          ]
        }
      ]
    },
    {
      "cell_type": "markdown",
      "source": [
        "Q9 Write a function that takes a dictionary and returns a list of keys whose values are even numbers"
      ],
      "metadata": {
        "id": "WAaotnxKedw3"
      }
    },
    {
      "cell_type": "code",
      "source": [
        "def evenValueinDict(dictionary):\n",
        "  list=[]\n",
        "  for key,value in dictionary.items():\n",
        "    if  value%2==0:\n",
        "     list.append(key)\n",
        "  return list\n",
        "myDictionary4={\"key-1\":1,\"key-2\":2,\"key-3\":3,\"key-4\":4}\n",
        "myList5 = evenValueinDict(myDictionary4)\n",
        "print(f\"the keys of even values in dictonary {myDictionary4} are {myList5}\")"
      ],
      "metadata": {
        "colab": {
          "base_uri": "https://localhost:8080/"
        },
        "id": "uedl3roZzJuF",
        "outputId": "f6ebbadb-339b-4c62-f4c1-5e840f817415"
      },
      "execution_count": null,
      "outputs": [
        {
          "output_type": "stream",
          "name": "stdout",
          "text": [
            "the even values in dictonary {'key-1': 1, 'key-2': 2, 'key-3': 3, 'key-4': 4} are ['key-2', 'key-4']\n"
          ]
        }
      ]
    }
  ]
}