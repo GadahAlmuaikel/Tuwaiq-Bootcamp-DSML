{
  "nbformat": 4,
  "nbformat_minor": 0,
  "metadata": {
    "colab": {
      "provenance": []
    },
    "kernelspec": {
      "name": "python3",
      "display_name": "Python 3"
    },
    "language_info": {
      "name": "python"
    }
  },
  "cells": [
    {
      "cell_type": "code",
      "source": [
        "import numpy as np"
      ],
      "metadata": {
        "id": "naM-Ua7W2q8A"
      },
      "execution_count": 2,
      "outputs": []
    },
    {
      "cell_type": "markdown",
      "source": [
        "### **1. Creating Arrays**\n",
        "- **Question:** Write a NumPy code snippet to create a 2D array with values ranging from 1 to 9, arranged in 3 rows and 3 columns. Print the array and its shape."
      ],
      "metadata": {
        "id": "eqVhDsw41xf_"
      }
    },
    {
      "cell_type": "code",
      "source": [
        "\n",
        "arr = np.arange(1,10).reshape(3,3)\n",
        "print(arr)\n",
        "print(arr.shape)"
      ],
      "metadata": {
        "colab": {
          "base_uri": "https://localhost:8080/"
        },
        "id": "2-yrsZcW13YR",
        "outputId": "6fba2266-d750-4e9e-fa6c-15702f41e63a"
      },
      "execution_count": null,
      "outputs": [
        {
          "output_type": "stream",
          "name": "stdout",
          "text": [
            "[[1 2 3]\n",
            " [4 5 6]\n",
            " [7 8 9]]\n",
            "(3, 3)\n"
          ]
        }
      ]
    },
    {
      "cell_type": "markdown",
      "source": [
        "### **2. Converting between NumPy Arrays and Python Lists**\n",
        "- **Question:** Convert the following Python list `[[1, 2, 3], [4, 5, 6]]` into a NumPy array. Then, convert it back into a Python list. Print both the NumPy array and the resulting list."
      ],
      "metadata": {
        "id": "qQHp74XI2V-M"
      }
    },
    {
      "cell_type": "code",
      "source": [
        "array_from_list = np.array([[1, 2, 3], [4, 5, 6]])\n",
        "list_from_array = array_from_list.tolist()\n",
        "print(\"the array\")\n",
        "print(array_from_list)\n",
        "print(\"the list\")\n",
        "print(list_from_array)\n"
      ],
      "metadata": {
        "colab": {
          "base_uri": "https://localhost:8080/"
        },
        "id": "aNXg2mbH2Zm9",
        "outputId": "f79f278f-c657-4167-cfa6-5af3823fc00f"
      },
      "execution_count": null,
      "outputs": [
        {
          "output_type": "stream",
          "name": "stdout",
          "text": [
            "the array\n",
            "[[1 2 3]\n",
            " [4 5 6]]\n",
            "the list\n",
            "[[1, 2, 3], [4, 5, 6]]\n"
          ]
        }
      ]
    },
    {
      "cell_type": "markdown",
      "source": [
        "### **3. Array Attributes**\n",
        "- **Question:** Given the NumPy array `array = np.array([[10, 20], [30, 40], [50, 60]])`, write a code snippet to print the array's `ndim`, `shape`, `size`, `dtype`, `itemsize`, and `nbytes` attributes."
      ],
      "metadata": {
        "id": "wV5vT9mb3EKo"
      }
    },
    {
      "cell_type": "code",
      "source": [
        "array = np.array([[10, 20], [30, 40], [50, 60]])\n",
        "print(f\"the array number of dimentoions is {array.ndim}\")\n",
        "print(f\"the array shape is {array.shape}\")\n",
        "print(f\"the array size or number of elements is {array.size}\")\n",
        "print(f\"the array dtype or data type is {array.dtype}\")\n",
        "print(f\"the array itemsize in byte is {array.itemsize}\")"
      ],
      "metadata": {
        "colab": {
          "base_uri": "https://localhost:8080/"
        },
        "id": "xNEnPEjF3JJN",
        "outputId": "33dd852d-1b1c-40dd-eba2-d8e4f2ecf96a"
      },
      "execution_count": null,
      "outputs": [
        {
          "output_type": "stream",
          "name": "stdout",
          "text": [
            "the array number of dimentoions is 2\n",
            "the array shape is (3, 2)\n",
            "the array size or number of elements is 6\n",
            "the array dtype or data type is int64\n",
            "the array itemsize in byte is 8\n"
          ]
        }
      ]
    },
    {
      "cell_type": "markdown",
      "source": [
        "\n",
        "### **4. Indexing and Slicing**\n",
        "- **Question:** Using the array `array = np.array([[7, 8, 9], [10, 11, 12], [13, 14, 15]])`, write code to extract and print the subarray containing the elements `[[8, 9], [11, 12]]`.\n"
      ],
      "metadata": {
        "id": "yU8K2uvP3G-v"
      }
    },
    {
      "cell_type": "code",
      "source": [
        "array = np.array([[7, 8, 9], [10, 11, 12], [13, 14, 15]])\n",
        "print(array[:2,1:])"
      ],
      "metadata": {
        "colab": {
          "base_uri": "https://localhost:8080/"
        },
        "id": "H4nSfTQn3tmB",
        "outputId": "89ff7f24-078a-405f-e80c-05530fba0f3a"
      },
      "execution_count": null,
      "outputs": [
        {
          "output_type": "stream",
          "name": "stdout",
          "text": [
            "[[ 8  9]\n",
            " [11 12]]\n"
          ]
        }
      ]
    },
    {
      "cell_type": "markdown",
      "source": [
        "### **5. Reshaping Arrays**\n",
        "- **Question:** Reshape the array `array = np.array([1, 2, 3, 4, 5, 6, 7, 8, 9, 10, 11, 12])` into a 3x4 matrix and print the reshaped array and its new shape."
      ],
      "metadata": {
        "id": "-ARcWLxe4Jmj"
      }
    },
    {
      "cell_type": "code",
      "source": [
        "array = np.array([1, 2, 3, 4, 5, 6, 7, 8, 9, 10, 11, 12])\n",
        "new_array = array.reshape(3,4)\n",
        "print(new_array)\n",
        "print(new_array.shape)"
      ],
      "metadata": {
        "colab": {
          "base_uri": "https://localhost:8080/"
        },
        "id": "EBhC5qck4JBw",
        "outputId": "05f0e9c1-e4c4-48c7-e63a-a545e82901c7"
      },
      "execution_count": null,
      "outputs": [
        {
          "output_type": "stream",
          "name": "stdout",
          "text": [
            "[[ 1  2  3  4]\n",
            " [ 5  6  7  8]\n",
            " [ 9 10 11 12]]\n",
            "(3, 4)\n"
          ]
        }
      ]
    },
    {
      "cell_type": "markdown",
      "source": [
        "### **6. Broadcasting**\n",
        "- **Question:** Add the 1D array `b = np.array([1, 2, 3])` to the 2D array `a = np.array([[4, 5, 6], [7, 8, 9]])` using broadcasting. Print the resulting array."
      ],
      "metadata": {
        "id": "LEcpHS-C4djF"
      }
    },
    {
      "cell_type": "code",
      "source": [
        "b = np.array([1, 2, 3])\n",
        "a = np.array([[4, 5, 6], [7, 8, 9]])\n",
        "print(\"1D array b: \\n\", b)\n",
        "print(\"2D array a: \\n\", a)\n",
        "result = a + b\n",
        "print(\"Result after broadcasting: \\n\", result)"
      ],
      "metadata": {
        "colab": {
          "base_uri": "https://localhost:8080/"
        },
        "id": "Nz6HQT_c4jG2",
        "outputId": "3c2f54fa-75c2-46e7-91bb-f0c088ae6142"
      },
      "execution_count": null,
      "outputs": [
        {
          "output_type": "stream",
          "name": "stdout",
          "text": [
            "1D array b: \n",
            " [1 2 3]\n",
            "2D array a: \n",
            " [[4 5 6]\n",
            " [7 8 9]]\n",
            "Result after broadcasting: \n",
            " [[ 5  7  9]\n",
            " [ 8 10 12]]\n"
          ]
        }
      ]
    },
    {
      "cell_type": "markdown",
      "source": [
        "### **7. Concatenating Arrays**\n",
        "- **Question:** Concatenate the following two arrays `a = np.array([[1, 2], [3, 4]])` and `b = np.array([[5, 6], [7, 8]])` along the rows. Print the resulting array."
      ],
      "metadata": {
        "id": "5TS6NLuB5SLa"
      }
    },
    {
      "cell_type": "code",
      "source": [
        "a = np.array([[1, 2], [3, 4]])\n",
        "b = np.array([[5, 6], [7, 8]])\n",
        "concatonated_array = np.concatenate((a,b) , axis = 0)\n",
        "print(\"the result concatonated array \\n\" , concatonated_array)"
      ],
      "metadata": {
        "colab": {
          "base_uri": "https://localhost:8080/"
        },
        "id": "kujd3QzS5VfQ",
        "outputId": "41c611a6-a264-4d01-abac-c50501ab2c99"
      },
      "execution_count": null,
      "outputs": [
        {
          "output_type": "stream",
          "name": "stdout",
          "text": [
            "the result concatonated array \n",
            " [[1 2]\n",
            " [3 4]\n",
            " [5 6]\n",
            " [7 8]]\n"
          ]
        }
      ]
    },
    {
      "cell_type": "markdown",
      "source": [
        "\n",
        "### **8. Matrix Operations**\n",
        "- **Question:** Perform element-wise multiplication on the matrices `a = np.array([[2, 4], [6, 8]])` and `b = np.array([[1, 3], [5, 7]])`. Print the resulting matrix."
      ],
      "metadata": {
        "id": "khTFbgzb6UdU"
      }
    },
    {
      "cell_type": "code",
      "source": [
        "a = np.array([[2, 4], [6, 8]])\n",
        "b = np.array([[1, 3], [5, 7]])\n",
        "result = a * b\n",
        "print(\"result of element wise multiplication \\n \", result)"
      ],
      "metadata": {
        "id": "Dz_ShN6T6W9X"
      },
      "execution_count": null,
      "outputs": []
    },
    {
      "cell_type": "markdown",
      "source": [
        "### **9. Universal Functions (ufuncs)**\n",
        "- **Question:** Apply the sine function to the array `array = np.array([0, np.pi/2, np.pi])` using a universal function. Print the results."
      ],
      "metadata": {
        "id": "2ishmEf96qQw"
      }
    },
    {
      "cell_type": "code",
      "source": [
        "array = np.array([0, np.pi/2, np.pi])\n",
        "result = np.sin(array)\n",
        "print(\"the result of sine function \\n\", result)"
      ],
      "metadata": {
        "colab": {
          "base_uri": "https://localhost:8080/"
        },
        "id": "4otcJNt96pnL",
        "outputId": "2e306755-9d33-43df-bb23-fcb3b726a382"
      },
      "execution_count": null,
      "outputs": [
        {
          "output_type": "stream",
          "name": "stdout",
          "text": [
            "the result of sine function \n",
            " [0.0000000e+00 1.0000000e+00 1.2246468e-16]\n"
          ]
        }
      ]
    },
    {
      "cell_type": "markdown",
      "source": [
        "### **10. Random Number Generation**\n",
        "- **Question:** Write code to generate a 2x3 array of random integers between 10 and 50 using `np.random.randint`. Set a random seed for reproducibility. Print the generated array."
      ],
      "metadata": {
        "id": "5gLe-hn_6_8r"
      }
    },
    {
      "cell_type": "code",
      "source": [
        "np.random.seed(30)\n",
        "array = np.random.randint(10,50,size=(2,3))\n",
        "print(\"the randomly generated array \\n\"array)"
      ],
      "metadata": {
        "colab": {
          "base_uri": "https://localhost:8080/"
        },
        "id": "MnfCPf8p7B4t",
        "outputId": "46fdef56-3269-4b70-fefe-91955022eadb"
      },
      "execution_count": null,
      "outputs": [
        {
          "output_type": "stream",
          "name": "stdout",
          "text": [
            "[[47 47 22]\n",
            " [33 12 27]]\n"
          ]
        }
      ]
    },
    {
      "cell_type": "markdown",
      "source": [
        "\n",
        "### **11. Array Flattening**\n",
        "- **Question:** Given a 3D array `array = np.array([[[1, 2, 3], [4, 5, 6]], [[7, 8, 9], [10, 11, 12]]])`, flatten it into a 1D array. Then, reshape it back into a 3x4 array. Print both the flattened and reshaped arrays."
      ],
      "metadata": {
        "id": "q-1dEIZw7fNS"
      }
    },
    {
      "cell_type": "code",
      "source": [
        "array = np.array([[[1, 2, 3], [4, 5, 6]], [[7, 8, 9], [10, 11, 12]]])\n",
        "flattend_array = array.flatten()\n",
        "reshaped_array = flattend_array.reshape(3,4)\n",
        "print(\"the flattend array \\n\", flattend_array)\n",
        "print(\"the reshaped array \\n\", reshaped_array)"
      ],
      "metadata": {
        "colab": {
          "base_uri": "https://localhost:8080/"
        },
        "id": "lzRG0pOJ7ead",
        "outputId": "e564eb73-ed92-4e23-aab1-c33f969bbfa4"
      },
      "execution_count": null,
      "outputs": [
        {
          "output_type": "stream",
          "name": "stdout",
          "text": [
            "the flattend array \n",
            " [ 1  2  3  4  5  6  7  8  9 10 11 12]\n",
            "the reshaped array \n",
            " [[ 1  2  3  4]\n",
            " [ 5  6  7  8]\n",
            " [ 9 10 11 12]]\n"
          ]
        }
      ]
    },
    {
      "cell_type": "markdown",
      "source": [
        "\n",
        "### **12. Matrix Determinant**\n",
        "- **Question:** Create a 3x3 matrix using NumPy and calculate its determinant using the `np.linalg.det` function. Explain what the determinant signifies for this matrix."
      ],
      "metadata": {
        "id": "oRCNTMMW74VT"
      }
    },
    {
      "cell_type": "code",
      "source": [
        "array = np.array([[4, 2, 3],\n",
        "                  [3, 7, 1],\n",
        "                  [10, 8, 9]])\n",
        "\n",
        "determinant = np.linalg.det(array)\n",
        "\n",
        "print(\"Matrix:\\n\", array)\n",
        "print(\"Determinant:\", determinant)\n",
        "print(\"the Determinant meaning:\")\n",
        "if determinant != 0:\n",
        "    print(\"- The matrix is not zero (non-singular), so it has an inverse (can be reversed).\")\n",
        "    print(f\"- The matrix changes the size of things by a factor of {abs(determinant):.2f}.\")\n",
        "    if determinant > 0:\n",
        "        print(\"- The matrix keeps the direction the same (no flipping).\")\n",
        "    else:\n",
        "        print(\"- The matrix flips the direction.\")\n",
        "else:\n",
        "    print(\"- The matrix is zero (singular), so it does not have an inverse.\")\n",
        "    print(\"- The matrix squashes things into a lower dimension (like a line or point).\")"
      ],
      "metadata": {
        "colab": {
          "base_uri": "https://localhost:8080/"
        },
        "id": "h0csorUK76X6",
        "outputId": "98cf2872-7a67-4efb-e3c3-054a23be9481"
      },
      "execution_count": null,
      "outputs": [
        {
          "output_type": "stream",
          "name": "stdout",
          "text": [
            "Matrix:\n",
            " [[ 4  2  3]\n",
            " [ 3  7  1]\n",
            " [10  8  9]]\n",
            "Determinant: 48.00000000000001\n"
          ]
        }
      ]
    },
    {
      "cell_type": "markdown",
      "source": [
        "\n",
        "\n",
        "\n",
        "\n",
        "\n",
        "\n",
        "\n",
        "\n",
        "\n",
        "\n",
        "### **13. Broadcasting and Arithmetic Operations**\n",
        "- **Question:** Create a 3x3 matrix and a 1D array of length 3. Use broadcasting to subtract the 1D array from each row of the matrix. Then, use broadcasting again to multiply each column of the resulting matrix by a different scalar. Print the final matrix.\n",
        "\n",
        "These questions offer a mix of foundational and advanced topics in NumPy, helping students deepen their understanding through practical coding exercises."
      ],
      "metadata": {
        "id": "0azzuVtGeEYQ"
      }
    },
    {
      "cell_type": "code",
      "source": [
        "array_2d = np.array([[1, 2, 3],\n",
        "                  [4, 5, 6],\n",
        "                  [7, 8, 9]])\n",
        "array_1d = np.array([4,2,6])\n",
        "subtract_result = array_2d - array_1d\n",
        "print(\"the result of subtracting \\n\" , subtract_result)\n",
        "multiply_result = subtract_result * np.array([5,2,6])\n",
        "print(\"the result of multiplying \\n\" , multiply_result)"
      ],
      "metadata": {
        "colab": {
          "base_uri": "https://localhost:8080/"
        },
        "id": "NCx3IZck8hSY",
        "outputId": "73b9da49-407c-4c51-e4ef-0061b5f3e07a"
      },
      "execution_count": 3,
      "outputs": [
        {
          "output_type": "stream",
          "name": "stdout",
          "text": [
            "the result of subtracting \n",
            " [[-3  0 -3]\n",
            " [ 0  3  0]\n",
            " [ 3  6  3]]\n",
            "the result of multiplying \n",
            " [[-15   0 -18]\n",
            " [  0   6   0]\n",
            " [ 15  12  18]]\n"
          ]
        }
      ]
    }
  ]
}