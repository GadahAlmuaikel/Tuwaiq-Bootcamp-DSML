{
  "nbformat": 4,
  "nbformat_minor": 0,
  "metadata": {
    "colab": {
      "provenance": []
    },
    "kernelspec": {
      "name": "python3",
      "display_name": "Python 3"
    },
    "language_info": {
      "name": "python"
    }
  },
  "cells": [
    {
      "cell_type": "markdown",
      "source": [
        "\n",
        "\n",
        "### Practice Questions on Dot Product and Matrix Multiplication\n",
        "\n",
        "#### **Question 1: Understanding the Dot Product**\n",
        "\n",
        "**Problem:**\n",
        "Given two vectors `a = [3, 4]` and `b = [2, 1]`, calculate their dot product manually.\n",
        "\n",
        "\n",
        "\n",
        "#### **Question 2: Properties of the Dot Product**\n",
        "\n",
        "**Problem:**\n",
        "Is the dot product of two vectors commutative? For example, if you have two vectors `a = [1, 2, 3]` and `b = [4, 5, 6]`, will `a * b` equal `b * a`?\n",
        "\n",
        "\n",
        "#### **Question 3: Matrix Multiplication Basics**\n",
        "\n",
        "**Problem:**\n",
        "Consider two 2x2 matrices `A = [[1, 2], [3, 4]]` and `B = [[5, 6], [7, 8]]`. Manually calculate the product of these matrices, `A * B`.\n",
        "\n",
        "\n",
        "\n",
        "#### **Question 4: Matrix Multiplication Dimensions**\n",
        "\n",
        "**Problem:**\n",
        "If matrix `C` is a 2x3 matrix and matrix `D` is a 3x4 matrix, what will be the dimensions of the resulting matrix when you multiply `C * D`?\n",
        "\n"
      ],
      "metadata": {
        "id": "uQAoJp2BuPME"
      }
    },
    {
      "cell_type": "markdown",
      "source": [
        "##Q1\n",
        " (3 x 2) + (4 x 1) = 6 + 4 = 10\n",
        "\n",
        "---\n",
        "##Q2\n",
        "a x b = (1 x 4) + ( 2 X 5) + ( 3 X 6 ) = 4 + 10 + 18 = 32\n",
        "\n",
        "b X a = (4 X 1) + (5 x 2 ) + (6 X 3 ) = 4 + 10 +18 = 32\n",
        "\n",
        "yes it is commutative\n",
        "\n",
        "---\n",
        "##Q3\n",
        "columns number in first matrix  = row number of second so i can do the multiplication and the result will be matrix of frist matix rows and seond matrix column = 2 X 2\n",
        "(1,2) . (5,7) = (1 x 5) + (2 x 7) = 5 + 14 = 19\n",
        "(1,2) . (6,8) = (1 x 6) + (2 x 8) = 6 + 16 = 22\n",
        "(3,4) . (5,7) = (3 x 5) + (4 x 7) = 15 + 28 = 43\n",
        "(3,4) . (6,8) = (3 x 6) + (4 x 8) = 18 + 32 = 50\n",
        "\n",
        "we got [ [19,22], [43,50]]\n",
        "\n",
        "---\n",
        "##Q4\n",
        "\n",
        "will be number of rows of first matrix  X number of columns of second =\n",
        "2 X 4\n"
      ],
      "metadata": {
        "id": "X9OMtHBuJ-GT"
      }
    },
    {
      "cell_type": "markdown",
      "source": [
        "# Q5\n",
        "Write a Python function calculate_dot_product(vector_a, vector_b) that takes two lists of numbers, vector_a and vector_b, representing two vectors, and returns their dot product."
      ],
      "metadata": {
        "id": "KCCwd72MsPN1"
      }
    },
    {
      "cell_type": "code",
      "source": [
        "def calculate_dot_product(vector_a, vector_b):\n",
        "    if len(vector_a) != len(vector_b):\n",
        "     return \"Vectors must have the same length for dot product\"\n",
        "    else:\n",
        "     new_vector = []\n",
        "     for i in range(len(vector_a)):\n",
        "          new_vector.append(vector_a[i] * vector_b[i])\n",
        "     return sum(new_vector)\n",
        "\n",
        "vector_a = [3,4]\n",
        "vector_b = [2,1]\n",
        "print(f\"the result of dot product of {vector_a} and {vector_b} is {calculate_dot_product(vector_a, vector_b)}\")"
      ],
      "metadata": {
        "id": "M5Dpys3ZOR0v",
        "outputId": "1c60a448-15c9-422f-f6d1-d638f5418ab1",
        "colab": {
          "base_uri": "https://localhost:8080/"
        }
      },
      "execution_count": null,
      "outputs": [
        {
          "output_type": "stream",
          "name": "stdout",
          "text": [
            "the result of dot product of [3, 4, 4] and [2, 1] is Vectors must have the same length for dot product\n"
          ]
        }
      ]
    },
    {
      "cell_type": "markdown",
      "source": [
        "#Q6\n",
        "\n",
        "Write a Python function matrix_multiply(matrix_a, matrix_b) that multiplies two 2x2 matrices and returns the resulting matrix.\n",
        "\n",
        "The matrices matrix_a and matrix_b will be represented as 2x2 lists, where each element is a number.\n",
        "The function should perform matrix multiplication, where the element at position\n",
        "(\n",
        "𝑖\n",
        ",\n",
        "𝑗\n",
        ")\n",
        "(i,j) in the resulting matrix is calculated by summing the products of corresponding elements from the\n",
        "𝑖\n",
        "i-th row of matrix_a and the\n",
        "𝑗\n",
        "j-th column of matrix_b.\n"
      ],
      "metadata": {
        "id": "-XK5CVqLssTo"
      }
    },
    {
      "cell_type": "code",
      "source": [
        "def matrix_multiply(matrix_a, matrix_b):\n",
        "    result_matrix = [[0, 0], [0, 0]]\n",
        "    for i in range(2):\n",
        "        for j in range(2):\n",
        "            result_matrix[i][j] = (matrix_a[i][0] * matrix_b[0][j] +\n",
        "                            matrix_a[i][1] * matrix_b[1][j])\n",
        "\n",
        "    return result_matrix\n",
        "\n",
        "matrix_a = [[1, 2], [3, 4]]\n",
        "matrix_b = [[5, 6], [7, 8]]\n",
        "print(f\"the result of multiply {matrix_a} and {matrix_b } is {matrix_multiply(matrix_a, matrix_b)}\")\n",
        "\n"
      ],
      "metadata": {
        "id": "ts5_lNKBPu_2",
        "outputId": "b0333244-8e16-421d-f93b-6444a5a39580",
        "colab": {
          "base_uri": "https://localhost:8080/"
        }
      },
      "execution_count": null,
      "outputs": [
        {
          "output_type": "stream",
          "name": "stdout",
          "text": [
            "the result of multiply [[1, 2], [3, 4]] and [[5, 6], [7, 8]] is [[19, 22], [43, 50]]\n"
          ]
        }
      ]
    }
  ]
}