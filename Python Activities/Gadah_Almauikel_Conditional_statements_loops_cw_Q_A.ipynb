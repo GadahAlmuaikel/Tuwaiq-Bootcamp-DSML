{
  "nbformat": 4,
  "nbformat_minor": 0,
  "metadata": {
    "colab": {
      "provenance": []
    },
    "kernelspec": {
      "name": "python3",
      "display_name": "Python 3"
    },
    "language_info": {
      "name": "python"
    }
  },
  "cells": [
    {
      "cell_type": "markdown",
      "source": [
        "Question 1: Write a Python program that asks the user for a number and then tells them if it’s even or odd."
      ],
      "metadata": {
        "id": "2o_Bp9AS24aK"
      }
    },
    {
      "cell_type": "code",
      "source": [
        "number = eval(input(\"Enter a number to check if it's even or odd: \"))\n",
        "if number%2==0:\n",
        "  print(\"even\")\n",
        "else:\n",
        "  print(\"odd\")"
      ],
      "metadata": {
        "id": "FDbFxegY-eqi",
        "outputId": "d16e5199-7d58-426d-f3c9-cdd9df378d67",
        "colab": {
          "base_uri": "https://localhost:8080/"
        }
      },
      "execution_count": null,
      "outputs": [
        {
          "output_type": "stream",
          "name": "stdout",
          "text": [
            "Enter a number to check if it's even or odd: 1\n",
            "odd\n"
          ]
        }
      ]
    },
    {
      "cell_type": "markdown",
      "source": [
        "Question 2: Create a Python program using a for loop that prints all numbers from 1 to 10.\n"
      ],
      "metadata": {
        "id": "U8goKPd428Pu"
      }
    },
    {
      "cell_type": "code",
      "source": [
        "for i in range(1,11):\n",
        "  print(i)"
      ],
      "metadata": {
        "id": "JsvZZH5N_B9X",
        "outputId": "9b4c9d76-8d25-4749-ba28-039ceec0bafa",
        "colab": {
          "base_uri": "https://localhost:8080/"
        }
      },
      "execution_count": null,
      "outputs": [
        {
          "output_type": "stream",
          "name": "stdout",
          "text": [
            "1\n",
            "2\n",
            "3\n",
            "4\n",
            "5\n",
            "6\n",
            "7\n",
            "8\n",
            "9\n",
            "10\n"
          ]
        }
      ]
    },
    {
      "cell_type": "markdown",
      "source": [
        "Question 3: Write a Python program using a while loop that prints numbers from 10 down to 1.\n"
      ],
      "metadata": {
        "id": "44cBF8Dd2_pc"
      }
    },
    {
      "cell_type": "code",
      "source": [
        "for i in range(10,0,-1):\n",
        "  print(i)"
      ],
      "metadata": {
        "id": "Br4gTtUO_JvN",
        "outputId": "e5e9fa94-1089-4fd4-e19f-6153ff14fe76",
        "colab": {
          "base_uri": "https://localhost:8080/"
        }
      },
      "execution_count": null,
      "outputs": [
        {
          "output_type": "stream",
          "name": "stdout",
          "text": [
            "10\n",
            "9\n",
            "8\n",
            "7\n",
            "6\n",
            "5\n",
            "4\n",
            "3\n",
            "2\n",
            "1\n"
          ]
        }
      ]
    },
    {
      "cell_type": "markdown",
      "source": [
        "Question 4: Write a Python program using a while loop that calculates the sum of all numbers from 1 to a user-provided number."
      ],
      "metadata": {
        "id": "N5qGmfJ6K8eh"
      }
    },
    {
      "cell_type": "code",
      "source": [
        "number = int(input(\"Enter a number to calculate the sum of all numbers from 1 to that number: \"))\n",
        "sum = 0\n",
        "for i in range(1,number+1):\n",
        "  sum +=i\n",
        "print(sum)\n"
      ],
      "metadata": {
        "id": "u2iPJsJ6_Rt3",
        "outputId": "91f1d318-d85e-4df1-b5a0-cbb3d8eee557",
        "colab": {
          "base_uri": "https://localhost:8080/"
        }
      },
      "execution_count": null,
      "outputs": [
        {
          "output_type": "stream",
          "name": "stdout",
          "text": [
            "Enter a number to calculate the sum of all numbers from 1 to that number: 3\n",
            "6\n"
          ]
        }
      ]
    },
    {
      "cell_type": "markdown",
      "source": [
        "Question 4\n",
        "\n",
        "\n",
        "Write a Python program that performs the following tasks:\n",
        "\n",
        "1. Randomly generates a number between 1 and 10.\n",
        "2. Gives the user 3 chances to guess the number.\n",
        "3. After each guess, provides feedback on whether the guess was too low, too high, or correct.\n",
        "4. If the user guesses the number correctly, the program should print a congratulatory message and stop.\n",
        "5. If the user fails to guess the correct number after 3 attempts, the program should display a message indicating the correct number.\n",
        "\n",
        "Make sure to include all necessary conditions and loops to achieve the desired functionality."
      ],
      "metadata": {
        "id": "wmiHAfPqOUu2"
      }
    },
    {
      "cell_type": "code",
      "source": [
        "from random import randint\n",
        "random_num = randint(1,10)\n",
        "for i in range(3):\n",
        "  guessed_num = int(input(\"Enter your guess:\"))\n",
        "  if random_num==guessed_num:\n",
        "    print(\"congratulation you guessed the number correctly the number is \",random_num)\n",
        "    break\n",
        "  else:\n",
        "   if random_num > guessed_num:\n",
        "     print(\"the guess was too low\")\n",
        "   else:\n",
        "    print(\"the guess was too high\")\n",
        "   if i==2:\n",
        "    print(\"You finished the 3 attempt the number is \",random_num )\n"
      ],
      "metadata": {
        "id": "y-Oac-B4_-MO",
        "outputId": "d3af0e8f-8d7f-41e6-ff5b-80de4e4264ce",
        "colab": {
          "base_uri": "https://localhost:8080/"
        }
      },
      "execution_count": null,
      "outputs": [
        {
          "output_type": "stream",
          "name": "stdout",
          "text": [
            "2\n",
            "Enter your guess:2\n",
            "congratulation you guessed the number correctly the number is  2\n"
          ]
        }
      ]
    }
  ]
}