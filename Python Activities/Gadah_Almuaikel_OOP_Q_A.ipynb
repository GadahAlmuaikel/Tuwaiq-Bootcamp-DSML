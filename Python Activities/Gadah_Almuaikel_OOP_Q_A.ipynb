{
  "nbformat": 4,
  "nbformat_minor": 0,
  "metadata": {
    "colab": {
      "provenance": []
    },
    "kernelspec": {
      "name": "python3",
      "display_name": "Python 3"
    },
    "language_info": {
      "name": "python"
    }
  },
  "cells": [
    {
      "cell_type": "markdown",
      "source": [
        "### Classes and Objects\n",
        "1. **Define a class `Car` with an attribute `color` and a method `drive()` that prints `\"The car is driving\"`. Then, create an object `my_car` of the class `Car` with the color `\"red\"` and call the `drive()` method.**"
      ],
      "metadata": {
        "id": "F4TNzGR5JhPw"
      }
    },
    {
      "cell_type": "code",
      "source": [
        "class Car:\n",
        "    def __init__(self,color):\n",
        "      self.color = color\n",
        "    def drive(self):\n",
        "      print(\"the car is driving\")\n",
        "\n",
        "my_car = Car(\"red\")\n",
        "my_car.drive()"
      ],
      "metadata": {
        "id": "W5zGoNC6JlI4",
        "outputId": "02b33e5f-7f6f-40f0-c701-c6126f9734df",
        "colab": {
          "base_uri": "https://localhost:8080/"
        }
      },
      "execution_count": null,
      "outputs": [
        {
          "output_type": "stream",
          "name": "stdout",
          "text": [
            "the car is driving\n"
          ]
        }
      ]
    },
    {
      "cell_type": "markdown",
      "source": [
        "2. **Create a class `Rectangle` with attributes `width` and `height`. Write a method `area()` that returns the area of the rectangle. Create an object `my_rectangle` with a width of 5 and a height of 10, and then calculate the area using the `area()` method.**"
      ],
      "metadata": {
        "id": "ZAzaZzlMKGTA"
      }
    },
    {
      "cell_type": "code",
      "source": [
        "class Rectangle:\n",
        " def __init__(self,width,height):\n",
        "  self.width = width\n",
        "  self.height = height\n",
        "\n",
        " def area(self):\n",
        "  return self.width * self.height\n",
        "\n",
        "my_rectangle = Rectangle(5,10)\n",
        "print(f\"a rectangle with {my_rectangle.width} width and {my_rectangle.height} height have area of {my_rectangle.area()}\")"
      ],
      "metadata": {
        "id": "I2R2gy-bKI9P",
        "outputId": "19d57fcc-cee0-4575-f862-8409701dab47",
        "colab": {
          "base_uri": "https://localhost:8080/"
        }
      },
      "execution_count": null,
      "outputs": [
        {
          "output_type": "stream",
          "name": "stdout",
          "text": [
            "the rectangle area is 50\n",
            "a rectangle with 5 width and 10 height have area of 50\n"
          ]
        }
      ]
    },
    {
      "cell_type": "markdown",
      "source": [
        "### Attributes and Methods"
      ],
      "metadata": {
        "id": "DYz4xaqHLvA8"
      }
    },
    {
      "cell_type": "markdown",
      "source": [
        "\n",
        "3. **Define a class `Dog` with an instance variable `name` and a class variable `species` set to `\"Canine\"`. Write a method `bark()` that prints `\"{self.name} says woof!\"`. Create an object `my_dog` with the name `\"Buddy\"` and call the `bark()` method.**\n"
      ],
      "metadata": {
        "id": "Zviv5KZkLqzP"
      }
    },
    {
      "cell_type": "code",
      "source": [
        "class Dog:\n",
        "  species = \"Canine\"\n",
        "  def __init__(self,name):\n",
        "    self.name = name\n",
        "  def bark(self):\n",
        "    print(f\"{self.name} says woof!\")\n",
        "\n",
        "my_dog = Dog(\"Buddy\")\n",
        "my_dog.bark()"
      ],
      "metadata": {
        "id": "VJcD6DKhLz1i",
        "outputId": "d811e08c-5ceb-4d5b-9e8f-eb99499a154e",
        "colab": {
          "base_uri": "https://localhost:8080/"
        }
      },
      "execution_count": null,
      "outputs": [
        {
          "output_type": "stream",
          "name": "stdout",
          "text": [
            "Buddy  says woof!\n"
          ]
        }
      ]
    },
    {
      "cell_type": "markdown",
      "source": [
        "4. **Write a class `Circle` that has an instance variable `radius`. Add a method `circumference()` that calculates and returns the circumference of the circle (`2 * π * radius`). Create an object `my_circle` with a radius of 7 and calculate its circumference.**"
      ],
      "metadata": {
        "id": "A8y3GoIHMnTW"
      }
    },
    {
      "cell_type": "code",
      "source": [
        "from math import pi\n",
        "class Circle:\n",
        " def __init__(self, radius):\n",
        "   self.radius = radius\n",
        "\n",
        " def circumference(self):\n",
        "   return 2*pi*self.radius\n",
        "\n",
        "my_circle = Circle(7)\n",
        "print(f\"a circle with radius {my_circle.radius} have circumference of {my_circle.circumference():.2f}\")"
      ],
      "metadata": {
        "id": "Yk2_kvZGMqBU",
        "outputId": "ea2debe1-a9b5-47d8-865c-a7f9b710c801",
        "colab": {
          "base_uri": "https://localhost:8080/"
        }
      },
      "execution_count": null,
      "outputs": [
        {
          "output_type": "stream",
          "name": "stdout",
          "text": [
            "a circle with radius 7 have circumference of 43.98\n"
          ]
        }
      ]
    },
    {
      "cell_type": "markdown",
      "source": [
        "\n",
        "5. **Define a class `Student` with attributes `name` and `grades` (a list of integers). Write a method `average_grade()` that calculates and returns the average of the grades. Create a `Student` object `student1` with the name `\"Alice\"` and grades `[85, 92, 78]`, and then calculate the average grade using the `average_grade()` method.**"
      ],
      "metadata": {
        "id": "U7msrpA4OFY9"
      }
    },
    {
      "cell_type": "code",
      "source": [
        "class Student:\n",
        " def __init__(self,name,grades):\n",
        "  self.name = name\n",
        "  self.grades = grades\n",
        "\n",
        " def average_grade(self):\n",
        "  sum=0\n",
        "  for grade in self.grades:\n",
        "   sum += grade\n",
        "  average = sum / len(self.grades)\n",
        "  return average\n",
        "\n",
        "student1 = Student(\"Alice\",[85,92,78])\n",
        "print (f\"the average grade of {student1.name} is {student1.average_grade()}\")\n"
      ],
      "metadata": {
        "id": "iZMWOKyhOBbl",
        "outputId": "4ea778df-3a0a-4bef-cba1-7ee50d74517c",
        "colab": {
          "base_uri": "https://localhost:8080/"
        }
      },
      "execution_count": null,
      "outputs": [
        {
          "output_type": "execute_result",
          "data": {
            "text/plain": [
              "85.0"
            ]
          },
          "metadata": {},
          "execution_count": 14
        }
      ]
    },
    {
      "cell_type": "markdown",
      "source": [
        "### Inheritance"
      ],
      "metadata": {
        "id": "FrNflYnsPg16"
      }
    },
    {
      "cell_type": "markdown",
      "source": [
        "6. **Create a class `Vehicle` with a method `start()` that prints `\"Vehicle is starting\"`. Then, define a subclass `Bike` that inherits from `Vehicle` and overrides the `start()` method to print `\"Bike is starting\"`. Create an object `my_bike` and call the `start()` method.**"
      ],
      "metadata": {
        "id": "jYJmeAnwPjul"
      }
    },
    {
      "cell_type": "code",
      "source": [
        "class Vehicle:\n",
        " def start(self):\n",
        "  print(\"Vechicle is starting\")\n",
        "\n",
        "\n",
        "class Bike(Vehicle):\n",
        " def start(self):\n",
        "  print(\"Bike is starting\")\n",
        "\n",
        "my_bike = Bike()\n",
        "my_bike.start()\n"
      ],
      "metadata": {
        "id": "OLdwL8_FPl7p",
        "outputId": "c40dc4e3-d9fa-4915-ff3d-37b8764e54ea",
        "colab": {
          "base_uri": "https://localhost:8080/"
        }
      },
      "execution_count": null,
      "outputs": [
        {
          "output_type": "stream",
          "name": "stdout",
          "text": [
            "Bike is starting\n"
          ]
        }
      ]
    },
    {
      "cell_type": "markdown",
      "source": [
        "7. **Define a class `Person` with an attribute `name` and a method `introduce()` that prints `\"Hello, my name is {self.name}\"`. Then, create a subclass `Employee` that adds an attribute `job_title` and overrides the `introduce()` method to print `\"Hello, my name is {self.name}, and I am a {self.job_title}\"`. Create an object `employee1` with the name `\"John\"` and job title `\"Engineer\"`, and call the `introduce()` method.**"
      ],
      "metadata": {
        "id": "rMCXYCqeQo0L"
      }
    },
    {
      "cell_type": "code",
      "source": [
        "class Person:\n",
        "\n",
        " def __init__(self,name):\n",
        "  self.name = name\n",
        "\n",
        " def introduce(self):\n",
        "  print(f\"Hello, my name is {self.name}\")\n",
        "\n",
        "\n",
        "class Employee(Person):\n",
        "\n",
        " def __init__(self,name,job_title):\n",
        "  super().__init__(name)\n",
        "  self.job_title = job_title\n",
        "\n",
        " def introduce(self):\n",
        "  print(f\"Hello, my name is {self.name}, and I am a {self.job_title}\")\n",
        "\n",
        "employee1 = Employee(\"John\",\"Engineer\")\n",
        "employee1.introduce()"
      ],
      "metadata": {
        "id": "WioVs00eQth1",
        "outputId": "18244758-d46b-41d4-cb14-b9d6fdccbcf0",
        "colab": {
          "base_uri": "https://localhost:8080/"
        }
      },
      "execution_count": null,
      "outputs": [
        {
          "output_type": "stream",
          "name": "stdout",
          "text": [
            "Hello, my name is John, and I am a Engineer\n"
          ]
        }
      ]
    },
    {
      "cell_type": "markdown",
      "source": [
        "8. **Using the `Vehicle` class from question 6, create another subclass `Car` that adds an attribute `fuel_type`. Use the `super()` function to initialize the `name` attribute in the `__init__` method of the `Car` class. Then, create an object `my_car` of the `Car` class with the `fuel_type` set to `\"Diesel\"`, and call the `start()` method.**"
      ],
      "metadata": {
        "id": "ArYViJ7gRHdd"
      }
    },
    {
      "cell_type": "code",
      "source": [
        "class Vehicle:\n",
        "    def __init__(self, name):\n",
        "        self.name = name\n",
        "\n",
        "    def start(self):\n",
        "        print(f\"{self.name} is starting\")\n",
        "\n",
        "\n",
        "class Car(Vehicle):\n",
        "    def __init__(self, name, fuel_type):\n",
        "        super().__init__(name)\n",
        "        self.fuel_type = fuel_type\n",
        "\n",
        "    def start(self):\n",
        "        print(f\"{self.name} is starting with {self.fuel_type} fuel\")\n",
        "\n",
        "my_car = Car(\"Toyota\", \"Diesel\")\n",
        "my_car.start()"
      ],
      "metadata": {
        "id": "t0y51UipRD-v",
        "outputId": "cb57c1fe-76da-41b9-a258-0da3b94b397c",
        "colab": {
          "base_uri": "https://localhost:8080/"
        }
      },
      "execution_count": null,
      "outputs": [
        {
          "output_type": "stream",
          "name": "stdout",
          "text": [
            "Toyota is starting with Diesel fuel\n"
          ]
        }
      ]
    },
    {
      "cell_type": "markdown",
      "source": [
        "### Encapsulation\n"
      ],
      "metadata": {
        "id": "4P4x-DAwSGqr"
      }
    },
    {
      "cell_type": "markdown",
      "source": [
        "9. **Create a class `BankAccount` with a private attribute `__balance` and methods `deposit(amount)` to add to the balance and `get_balance()` to return the current balance. Create an object `my_account` and make a deposit of 500, then print the current balance using the `get_balance()` method.**"
      ],
      "metadata": {
        "id": "Eg5021dHSJKu"
      }
    },
    {
      "cell_type": "code",
      "source": [
        "class BankAccount:\n",
        " def __init__(self,balance):\n",
        "  self.__balance = balance\n",
        "\n",
        " def deposit(self,amount):\n",
        "  self.__balance += amount\n",
        "\n",
        " def get_balance(self):\n",
        "  return self.__balance\n",
        "\n",
        "\n",
        "my_account = BankAccount(1000)\n",
        "print(f\"the balance before deposite is {my_account.get_balance()}\")\n",
        "my_account.deposit(500)\n",
        "print(f\"the balance after deposite is {my_account.get_balance()}\")"
      ],
      "metadata": {
        "id": "zVzsNiWUSMpC",
        "colab": {
          "base_uri": "https://localhost:8080/"
        },
        "outputId": "ef0dcede-bedb-4ea3-a57e-c0190b961094"
      },
      "execution_count": null,
      "outputs": [
        {
          "output_type": "stream",
          "name": "stdout",
          "text": [
            "the balance before deposite is 1000\n",
            "the balance after deposite is 1500\n"
          ]
        }
      ]
    },
    {
      "cell_type": "markdown",
      "source": [
        "\n",
        "10. **Define a class `Laptop` with a private attribute `__price` and methods `set_price(new_price)` to update the price and `get_price()` to return the price. Create an object `my_laptop`, set the price to 1500 using the `set_price()` method, and then print the price using the `get_price()` method.**\n",
        "\n"
      ],
      "metadata": {
        "id": "PGa9_1HFh-aR"
      }
    },
    {
      "cell_type": "code",
      "source": [
        "class Laptop:\n",
        " def __init__(self,price):\n",
        "  self.__price = price\n",
        "\n",
        " def set_price(self,new_price):\n",
        "  self.__price = new_price\n",
        "\n",
        " def get_price(self):\n",
        "  return self.__price\n",
        "\n",
        "\n",
        "my_laptop = Laptop(2000)\n",
        "print(f\"the price before changing is {my_laptop.get_price()}\")\n",
        "my_laptop.set_price(1500)\n",
        "print(f\"the price after changing is {my_laptop.get_price()}\")"
      ],
      "metadata": {
        "id": "uSE095DjSjAB",
        "outputId": "deddd123-fc71-453b-9cc1-cf938307b88f",
        "colab": {
          "base_uri": "https://localhost:8080/"
        }
      },
      "execution_count": null,
      "outputs": [
        {
          "output_type": "stream",
          "name": "stdout",
          "text": [
            "the price before changing is 2000\n",
            "the price after changing is 1500\n"
          ]
        }
      ]
    }
  ]
}