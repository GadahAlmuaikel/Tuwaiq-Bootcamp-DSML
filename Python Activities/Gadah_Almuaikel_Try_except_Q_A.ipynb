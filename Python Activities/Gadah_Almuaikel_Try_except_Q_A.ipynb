{
  "nbformat": 4,
  "nbformat_minor": 0,
  "metadata": {
    "colab": {
      "provenance": []
    },
    "kernelspec": {
      "name": "python3",
      "display_name": "Python 3"
    },
    "language_info": {
      "name": "python"
    }
  },
  "cells": [
    {
      "cell_type": "markdown",
      "source": [
        "### Q1:\n",
        "\n",
        "Write a try block that attempts to convert each element in the list items = ['10', '20', 'thirty', '40'] to an integer. Use an except block to catch any errors and print \"Conversion error for an item.\""
      ],
      "metadata": {
        "id": "9f501Hux_Lib"
      }
    },
    {
      "cell_type": "code",
      "source": [
        "mylist = ['10', '20', 'thirty', '40']\n",
        "for num in mylist:\n",
        "    try:\n",
        "        print(int(num))\n",
        "    except:\n",
        "        print(\"Conversion error for an item.\")"
      ],
      "metadata": {
        "id": "eotiP8SogkAP",
        "outputId": "0295693c-561f-4eb5-f453-84688c04ed85",
        "colab": {
          "base_uri": "https://localhost:8080/"
        }
      },
      "execution_count": null,
      "outputs": [
        {
          "output_type": "stream",
          "name": "stdout",
          "text": [
            "10\n",
            "20\n",
            "Conversion error for an item.\n",
            "40\n"
          ]
        }
      ]
    },
    {
      "cell_type": "markdown",
      "source": [
        "### Q2\n",
        "\n",
        "Create a function access_dict_value(d, key) that tries to access the value associated with key in the dictionary d. If the key does not exist, catch the exception and return \"Key not found.\"\n",
        "\n",
        "Create test cases to test your code"
      ],
      "metadata": {
        "id": "7xhfjH6V_NH8"
      }
    },
    {
      "cell_type": "code",
      "source": [
        "def access_dict_value(d,key):\n",
        "    try:\n",
        "        return d[key]\n",
        "    except:\n",
        "        return \"Key not found.\"\n",
        "\n",
        "my_dict = {\"name\": \"Alice\", \"age\": 25}\n",
        "print(access_dict_value(my_dict, \"name\"))  # Output: Alice\n",
        "print(access_dict_value(my_dict, \"address\"))  # Output: Key not found"
      ],
      "metadata": {
        "id": "vmViVUaSgtHm",
        "outputId": "abe49d88-c754-4deb-ac7d-2a65907652d3",
        "colab": {
          "base_uri": "https://localhost:8080/"
        }
      },
      "execution_count": null,
      "outputs": [
        {
          "output_type": "stream",
          "name": "stdout",
          "text": [
            "Alice\n",
            "Key not found.\n"
          ]
        }
      ]
    },
    {
      "cell_type": "markdown",
      "source": [
        "### Q3:\n",
        "Write a function safe_concatenate(lst) that attempts to concatenate all elements in a list lst into a single string. If any element is not a string, catch the exception and return \"Concatenation error.\"\n",
        "\n",
        "Create test cases to test your code"
      ],
      "metadata": {
        "id": "wWsSy2oV_VsJ"
      }
    },
    {
      "cell_type": "code",
      "source": [
        "def safe_concatenate(lst):\n",
        "    try:\n",
        "        word = \"\"\n",
        "        for item in range(len(lst)):\n",
        "            word += lst[item]\n",
        "        return word\n",
        "    except:\n",
        "        return \"Concatenation error.\"\n",
        "\n",
        "print(safe_concatenate([\"Hello\", \" \", \"World\"]))  # Output: Hello World\n",
        "print(safe_concatenate([\"Hello\", 5, \"World\"]))    # Output: Concatenation error"
      ],
      "metadata": {
        "id": "jmMnqLDGhYKV",
        "outputId": "d00443ae-115b-4861-c15d-197ad4caf20d",
        "colab": {
          "base_uri": "https://localhost:8080/"
        }
      },
      "execution_count": null,
      "outputs": [
        {
          "output_type": "stream",
          "name": "stdout",
          "text": [
            "Hello World\n",
            "Concatenation error.\n"
          ]
        }
      ]
    },
    {
      "cell_type": "markdown",
      "source": [
        "### Q4:\n",
        "Write a try block that loops through the list data = [1, 2, 'three', 4] and attempts to multiply each element by 3. Use an except block to catch any errors and print \"Multiplication error.\"\n"
      ],
      "metadata": {
        "id": "aSxRcA7H_Yif"
      }
    },
    {
      "cell_type": "code",
      "source": [
        "mylist = [1,2,'three',4]\n",
        "try:\n",
        "    for num in mylist:\n",
        "        print(int(num)*3)\n",
        "except:\n",
        "    print(\"Multiplication error.\")"
      ],
      "metadata": {
        "id": "D7C_XSngh0A6",
        "outputId": "29a2075d-2699-4caa-dfd2-6a0150fc8035",
        "colab": {
          "base_uri": "https://localhost:8080/"
        }
      },
      "execution_count": null,
      "outputs": [
        {
          "output_type": "stream",
          "name": "stdout",
          "text": [
            "3\n",
            "6\n",
            "Multiplication error.\n"
          ]
        }
      ]
    },
    {
      "cell_type": "markdown",
      "source": [
        "### Q5\n",
        "Create a function get_first_character(lst) that takes a list of strings and tries to return the first character of each string. If any element is not a string, catch the exception and return \"Non-string element found.\"\n",
        "\n",
        "Example\n",
        "\n",
        "print(get_first_character([\"apple\", \"banana\", \"cherry\"]))  # Output: ['a', 'b', 'c']\n",
        "\n",
        "print(get_first_character([\"apple\", 123, \"cherry\"]))       # Output: Non-string element found"
      ],
      "metadata": {
        "id": "mD9eOU2l_ogS"
      }
    },
    {
      "cell_type": "code",
      "source": [
        "def get_first_character(lst):\n",
        "    try:\n",
        "        newList = []\n",
        "        for item in lst:\n",
        "            newList.append(item[0])\n",
        "        return newList\n",
        "    except:\n",
        "        return \"Non-string element found.\"\n",
        "\n",
        "print(get_first_character([\"apple\", \"banana\", \"cherry\"]))\n",
        "print(get_first_character([\"apple\", 123, \"cherry\"]))"
      ],
      "metadata": {
        "id": "lFWO4mEMiVNJ",
        "outputId": "64afa618-9474-4ab9-a7d9-24b8b3cad337",
        "colab": {
          "base_uri": "https://localhost:8080/"
        }
      },
      "execution_count": null,
      "outputs": [
        {
          "output_type": "stream",
          "name": "stdout",
          "text": [
            "['a', 'b', 'c']\n",
            "Non-string element found.\n"
          ]
        }
      ]
    },
    {
      "cell_type": "markdown",
      "source": [
        "### Q6:\n",
        "Write a try block that attempts to access an element in a list lst = [10, 20]. If the list is too short, catch the exception and print \"List index out of range.\""
      ],
      "metadata": {
        "id": "4WEh4yFQ_q59"
      }
    },
    {
      "cell_type": "code",
      "source": [
        "lst = [10,20]\n",
        "try:\n",
        "    print(lst[0])\n",
        "    print(lst[2])\n",
        "except:\n",
        "    print(\"List index out of range.\")"
      ],
      "metadata": {
        "id": "tuxLJORFjY9i",
        "outputId": "0ce2299e-a7b3-4ef7-ea97-273034b54ff4",
        "colab": {
          "base_uri": "https://localhost:8080/"
        }
      },
      "execution_count": null,
      "outputs": [
        {
          "output_type": "stream",
          "name": "stdout",
          "text": [
            "10\n",
            "List index out of range.\n"
          ]
        }
      ]
    },
    {
      "cell_type": "markdown",
      "source": [
        "### Q7:\n",
        "Create a function safe_divide(a, b) that attempts to divide a by b. If any error occurs, return \"Division error.\n",
        "\n",
        "Create test cases to test your code"
      ],
      "metadata": {
        "id": "spvDqz8f_vsL"
      }
    },
    {
      "cell_type": "code",
      "source": [
        "def safe_divide(a,b):\n",
        "    try:\n",
        "        return a/b\n",
        "    except:\n",
        "        return \"Division error.\"\n",
        "\n",
        "print(safe_divide(7,4))\n",
        "print(safe_divide(7,3))\n",
        "print(safe_divide(4,0))"
      ],
      "metadata": {
        "id": "moqGwbHSji1d",
        "outputId": "442099a0-3239-4b5b-a563-f8686c3fe2d0",
        "colab": {
          "base_uri": "https://localhost:8080/"
        }
      },
      "execution_count": null,
      "outputs": [
        {
          "output_type": "stream",
          "name": "stdout",
          "text": [
            "1.75\n",
            "2.3333333333333335\n",
            "Division error.\n"
          ]
        }
      ]
    },
    {
      "cell_type": "markdown",
      "source": [
        "### Q8\n",
        "Write a function get_square(lst) that takes a list of numbers and returns a list of their squares. If an element is not a number or if any error occurs, return \"Square calculation error.\"\n",
        "\n",
        "Create test cases to test your code"
      ],
      "metadata": {
        "id": "DfEDI8ND_0Cy"
      }
    },
    {
      "cell_type": "code",
      "source": [
        "def get_square(lst):\n",
        "    try:\n",
        "        newList = []\n",
        "        for item in lst:\n",
        "            newList.append(item**2)\n",
        "        return newList\n",
        "    except:\n",
        "        return \"Square calculation error.\"\n",
        "\n",
        "print(get_square([1,2,3]))\n",
        "print(get_square([1,2,'a']))"
      ],
      "metadata": {
        "id": "TPPkFsZAjrLw",
        "outputId": "89dbeef1-fcd0-443e-bb13-25c15e773533",
        "colab": {
          "base_uri": "https://localhost:8080/"
        }
      },
      "execution_count": null,
      "outputs": [
        {
          "output_type": "stream",
          "name": "stdout",
          "text": [
            "[1, 4, 9]\n",
            "Square calculation error.\n"
          ]
        }
      ]
    },
    {
      "cell_type": "markdown",
      "source": [
        "### Q9"
      ],
      "metadata": {
        "id": "SRdwDWGhTgca"
      }
    },
    {
      "cell_type": "markdown",
      "source": [
        "Write a function safe_divide(a, b) that performs division of two numbers. Use try-except to handle the case where b is zero and print a custom message in that case. Add an else block to print the result when no exception occurs, and a finally block to always print \"Operation complete.\"\n",
        "Create test cases to test your code\n"
      ],
      "metadata": {
        "id": "Wkdn-ZqWTk8s"
      }
    },
    {
      "cell_type": "code",
      "source": [
        "def safe_divide(a,b):\n",
        "    try:\n",
        "        result =  a/b\n",
        "    except ZeroDivisionError:\n",
        "        print(\"Cannot divide by zero.\")\n",
        "    else:\n",
        "        print(result)\n",
        "    finally:\n",
        "        print(\"Operation complete.\")\n",
        "\n",
        "\n",
        "print(\"first division 4/2\")\n",
        "safe_divide(4,2)\n",
        "print(\"=\"*20)\n",
        "print(\"second division 4/0\")\n",
        "safe_divide(4,0)"
      ],
      "metadata": {
        "id": "JsyiM3zFj4e4",
        "outputId": "ab0c729e-45b7-456a-a4bc-2ea340270c39",
        "colab": {
          "base_uri": "https://localhost:8080/"
        }
      },
      "execution_count": null,
      "outputs": [
        {
          "output_type": "stream",
          "name": "stdout",
          "text": [
            "first division 4/2\n",
            "2.0\n",
            "Operation complete.\n",
            "====================\n",
            "second division 4/0\n",
            "Cannot divide by zero.\n",
            "Operation complete.\n"
          ]
        }
      ]
    },
    {
      "cell_type": "markdown",
      "source": [
        "### Q10"
      ],
      "metadata": {
        "id": "VvDl2PiBT9KS"
      }
    },
    {
      "cell_type": "markdown",
      "source": [
        "Write a function convert_to_int(value) that attempts to convert a string to an integer. Handle both ValueError and TypeError exceptions if the conversion fails. Use an else block to print the converted integer, and a finally block to print \"Conversion attempt finished.\"\n",
        "\n",
        "Create test cases to test your code\n"
      ],
      "metadata": {
        "id": "N0lhB4t7T-D1"
      }
    },
    {
      "cell_type": "code",
      "source": [
        "def convert_to_int(string):\n",
        "    try:\n",
        "        num= int(string)\n",
        "    except ValueError:\n",
        "        print(\"Value error.\")\n",
        "    except TypeError:\n",
        "        print(\"Type error.\")\n",
        "    else:\n",
        "        print(num)\n",
        "    finally:\n",
        "      print(\"Conversion attempt finished\")\n",
        "\n",
        "convert_to_int(\"10\")\n",
        "convert_to_int(\"a\")"
      ],
      "metadata": {
        "id": "oqypR08ekdrU",
        "outputId": "2348c230-f143-4b6c-b4c3-52710d5b9bd5",
        "colab": {
          "base_uri": "https://localhost:8080/"
        }
      },
      "execution_count": null,
      "outputs": [
        {
          "output_type": "stream",
          "name": "stdout",
          "text": [
            "10\n",
            "Conversion attempt finished\n",
            "Value error.\n",
            "Conversion attempt finished\n"
          ]
        }
      ]
    }
  ]
}